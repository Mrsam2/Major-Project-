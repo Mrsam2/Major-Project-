{
 "cells": [
  {
   "cell_type": "code",
   "execution_count": 1,
   "id": "828b1bba",
   "metadata": {},
   "outputs": [],
   "source": [
    "import os\n",
    "import zipfile\n",
    "import pandas as pd\n",
    "import numpy as np\n",
    "import tensorflow as tf\n",
    "from sklearn.model_selection import train_test_split\n",
    "from sklearn.preprocessing import StandardScaler\n",
    "from sklearn.metrics import confusion_matrix, classification_report\n",
    "import matplotlib.pyplot as plt\n"
   ]
  },
  {
   "cell_type": "code",
   "execution_count": 3,
   "id": "cb9a70bc",
   "metadata": {},
   "outputs": [
    {
     "name": "stdout",
     "output_type": "stream",
     "text": [
      "ZIP extraction completed.\n"
     ]
    }
   ],
   "source": [
    "# Extract ZIP \n",
    "# Unzip dataset\n",
    "zip_path = 'ADL_&_Fall_Dataset_1.0.zip'\n",
    "extract_to = 'ADL_Fall_Extracted'\n",
    "\n",
    "with zipfile.ZipFile(zip_path, 'r') as zip_ref:\n",
    "    zip_ref.extractall(extract_to)\n",
    "print(\"ZIP extraction completed.\")"
   ]
  },
  {
   "cell_type": "code",
   "execution_count": 4,
   "id": "f33c417a",
   "metadata": {},
   "outputs": [
    {
     "name": "stdout",
     "output_type": "stream",
     "text": [
      " Data loaded successfully.\n"
     ]
    }
   ],
   "source": [
    "#  Load All CSVs with Labels\n",
    "data_list = []\n",
    "label_list = []\n",
    "\n",
    "for root, dirs, files in os.walk(extract_to):\n",
    "    for file in files:\n",
    "        if file.endswith('.csv'):\n",
    "            file_path = os.path.join(root, file)\n",
    "            try:\n",
    "                df = pd.read_csv(file_path, header=None)\n",
    "                df = df.apply(pd.to_numeric, errors='coerce')\n",
    "                if df.shape[1] > 5:  # Ignore any malformed or empty files\n",
    "                    data_list.append(df)\n",
    "                    # Label: 1 = Fall, 0 = ADL\n",
    "                    label = 1 if 'F' in file.upper() else 0\n",
    "                    label_list.extend([label] * len(df))\n",
    "            except Exception as e:\n",
    "                print(f\" Error reading {file_path}: {e}\")\n",
    "\n",
    "# Combine data\n",
    "combined_data = pd.concat(data_list, ignore_index=True)\n",
    "labels = pd.Series(label_list)\n",
    "\n",
    "# Clean missing rows\n",
    "combined_data = combined_data.dropna().reset_index(drop=True)\n",
    "labels = labels.loc[combined_data.index].reset_index(drop=True)\n",
    "\n",
    "print(\" Data loaded successfully.\")"
   ]
  },
  {
   "cell_type": "code",
   "execution_count": 5,
   "id": "5bce507d",
   "metadata": {},
   "outputs": [
    {
     "name": "stdout",
     "output_type": "stream",
     "text": [
      " Dataset Size:\n",
      "Rows: 378733, Columns: 12\n",
      "\n",
      " Column Names:\n",
      "0: 0\n",
      "1: 1\n",
      "2: 2\n",
      "3: 3\n",
      "4: 4\n",
      "5: 5\n",
      "6: 6\n",
      "7: 7\n",
      "8: 8\n",
      "9: 9\n",
      "10: 10\n",
      "11: 11\n",
      "\n",
      " Sample Rows:\n",
      "     0      1     2     3     4     5     6     7     8     9     10    11\n",
      "0  0.28  -7.35 -1.31 -0.52  0.54  0.21  5.11 -8.74  0.81 -1.06 -1.23  1.22\n",
      "1 -1.72 -12.77 -2.95 -0.43  0.12 -0.42  4.85 -9.70  2.04 -0.78 -0.10  0.04\n",
      "2 -3.07 -11.24 -2.24  0.31 -0.25  0.11  2.14 -8.98  1.75 -0.54  0.42 -0.12\n",
      "3  0.98  -7.04 -2.36  0.32 -0.68  0.93  0.17 -9.17  2.37 -0.83 -0.46  0.23\n",
      "4  2.85  -7.04 -3.96  0.07 -0.13  0.59  0.59 -9.30  2.42 -0.84 -1.37  0.48\n",
      "\n",
      " Missing Values:\n",
      "0     0\n",
      "1     0\n",
      "2     0\n",
      "3     0\n",
      "4     0\n",
      "5     0\n",
      "6     0\n",
      "7     0\n",
      "8     0\n",
      "9     0\n",
      "10    0\n",
      "11    0\n",
      "dtype: int64\n",
      "\n",
      " Label Distribution:\n",
      "0    233093\n",
      "1    145640\n",
      "Name: count, dtype: int64\n"
     ]
    }
   ],
   "source": [
    "# After combining all files (from your earlier steps)\n",
    "print(\" Dataset Size:\")\n",
    "print(f\"Rows: {combined_data.shape[0]}, Columns: {combined_data.shape[1]}\")\n",
    "\n",
    "print(\"\\n Column Names:\")\n",
    "for i, col in enumerate(combined_data.columns):\n",
    "    print(f\"{i}: {col}\")\n",
    "\n",
    "print(\"\\n Sample Rows:\")\n",
    "print(combined_data.head())\n",
    "\n",
    "print(\"\\n Missing Values:\")\n",
    "print(combined_data.isnull().sum())\n",
    "\n",
    "print(\"\\n Label Distribution:\")\n",
    "print(labels.value_counts())"
   ]
  },
  {
   "cell_type": "code",
   "execution_count": 9,
   "id": "64cb7710",
   "metadata": {},
   "outputs": [
    {
     "data": {
      "text/html": [
       "<div>\n",
       "<style scoped>\n",
       "    .dataframe tbody tr th:only-of-type {\n",
       "        vertical-align: middle;\n",
       "    }\n",
       "\n",
       "    .dataframe tbody tr th {\n",
       "        vertical-align: top;\n",
       "    }\n",
       "\n",
       "    .dataframe thead th {\n",
       "        text-align: right;\n",
       "    }\n",
       "</style>\n",
       "<table border=\"1\" class=\"dataframe\">\n",
       "  <thead>\n",
       "    <tr style=\"text-align: right;\">\n",
       "      <th></th>\n",
       "      <th>Accel_X1</th>\n",
       "      <th>Accel_Y1</th>\n",
       "      <th>Accel_Z1</th>\n",
       "      <th>Gyro_X1</th>\n",
       "      <th>Gyro_Y1</th>\n",
       "      <th>Gyro_Z1</th>\n",
       "      <th>Accel_X2</th>\n",
       "      <th>Accel_Y2</th>\n",
       "      <th>Accel_Z2</th>\n",
       "      <th>Gyro_X2</th>\n",
       "      <th>Gyro_Y2</th>\n",
       "      <th>Gyro_Z2</th>\n",
       "    </tr>\n",
       "  </thead>\n",
       "  <tbody>\n",
       "    <tr>\n",
       "      <th>0</th>\n",
       "      <td>0.28</td>\n",
       "      <td>-7.35</td>\n",
       "      <td>-1.31</td>\n",
       "      <td>-0.52</td>\n",
       "      <td>0.54</td>\n",
       "      <td>0.21</td>\n",
       "      <td>5.11</td>\n",
       "      <td>-8.74</td>\n",
       "      <td>0.81</td>\n",
       "      <td>-1.06</td>\n",
       "      <td>-1.23</td>\n",
       "      <td>1.22</td>\n",
       "    </tr>\n",
       "    <tr>\n",
       "      <th>1</th>\n",
       "      <td>-1.72</td>\n",
       "      <td>-12.77</td>\n",
       "      <td>-2.95</td>\n",
       "      <td>-0.43</td>\n",
       "      <td>0.12</td>\n",
       "      <td>-0.42</td>\n",
       "      <td>4.85</td>\n",
       "      <td>-9.70</td>\n",
       "      <td>2.04</td>\n",
       "      <td>-0.78</td>\n",
       "      <td>-0.10</td>\n",
       "      <td>0.04</td>\n",
       "    </tr>\n",
       "    <tr>\n",
       "      <th>2</th>\n",
       "      <td>-3.07</td>\n",
       "      <td>-11.24</td>\n",
       "      <td>-2.24</td>\n",
       "      <td>0.31</td>\n",
       "      <td>-0.25</td>\n",
       "      <td>0.11</td>\n",
       "      <td>2.14</td>\n",
       "      <td>-8.98</td>\n",
       "      <td>1.75</td>\n",
       "      <td>-0.54</td>\n",
       "      <td>0.42</td>\n",
       "      <td>-0.12</td>\n",
       "    </tr>\n",
       "    <tr>\n",
       "      <th>3</th>\n",
       "      <td>0.98</td>\n",
       "      <td>-7.04</td>\n",
       "      <td>-2.36</td>\n",
       "      <td>0.32</td>\n",
       "      <td>-0.68</td>\n",
       "      <td>0.93</td>\n",
       "      <td>0.17</td>\n",
       "      <td>-9.17</td>\n",
       "      <td>2.37</td>\n",
       "      <td>-0.83</td>\n",
       "      <td>-0.46</td>\n",
       "      <td>0.23</td>\n",
       "    </tr>\n",
       "    <tr>\n",
       "      <th>4</th>\n",
       "      <td>2.85</td>\n",
       "      <td>-7.04</td>\n",
       "      <td>-3.96</td>\n",
       "      <td>0.07</td>\n",
       "      <td>-0.13</td>\n",
       "      <td>0.59</td>\n",
       "      <td>0.59</td>\n",
       "      <td>-9.30</td>\n",
       "      <td>2.42</td>\n",
       "      <td>-0.84</td>\n",
       "      <td>-1.37</td>\n",
       "      <td>0.48</td>\n",
       "    </tr>\n",
       "  </tbody>\n",
       "</table>\n",
       "</div>"
      ],
      "text/plain": [
       "   Accel_X1  Accel_Y1  Accel_Z1  Gyro_X1  Gyro_Y1  Gyro_Z1  Accel_X2  \\\n",
       "0      0.28     -7.35     -1.31    -0.52     0.54     0.21      5.11   \n",
       "1     -1.72    -12.77     -2.95    -0.43     0.12    -0.42      4.85   \n",
       "2     -3.07    -11.24     -2.24     0.31    -0.25     0.11      2.14   \n",
       "3      0.98     -7.04     -2.36     0.32    -0.68     0.93      0.17   \n",
       "4      2.85     -7.04     -3.96     0.07    -0.13     0.59      0.59   \n",
       "\n",
       "   Accel_Y2  Accel_Z2  Gyro_X2  Gyro_Y2  Gyro_Z2  \n",
       "0     -8.74      0.81    -1.06    -1.23     1.22  \n",
       "1     -9.70      2.04    -0.78    -0.10     0.04  \n",
       "2     -8.98      1.75    -0.54     0.42    -0.12  \n",
       "3     -9.17      2.37    -0.83    -0.46     0.23  \n",
       "4     -9.30      2.42    -0.84    -1.37     0.48  "
      ]
     },
     "execution_count": 9,
     "metadata": {},
     "output_type": "execute_result"
    }
   ],
   "source": [
    "# Rename Sensor Columns\n",
    "columns = [\n",
    "    'Accel_X1', 'Accel_Y1', 'Accel_Z1',\n",
    "    'Gyro_X1', 'Gyro_Y1', 'Gyro_Z1',\n",
    "    'Accel_X2', 'Accel_Y2', 'Accel_Z2',\n",
    "    'Gyro_X2', 'Gyro_Y2', 'Gyro_Z2'\n",
    "] \n",
    "\n",
    "combined_data.columns = columns[:combined_data.shape[1]]\n",
    "combined_data.head()\n"
   ]
  },
  {
   "cell_type": "code",
   "execution_count": 11,
   "id": "e8fc09ae",
   "metadata": {},
   "outputs": [
    {
     "name": "stdout",
     "output_type": "stream",
     "text": [
      " Preprocessing Complete\n",
      "X_train shape: (302986, 12)\n",
      "X_test shape: (75747, 12)\n"
     ]
    }
   ],
   "source": [
    "# Preprocessing – Scaling and Splitting\n",
    "scaler = StandardScaler()\n",
    "X_scaled = scaler.fit_transform(combined_data)\n",
    "y = labels.values\n",
    "\n",
    "X_train, X_test, y_train, y_test = train_test_split(\n",
    "    X_scaled, y, test_size=0.2, stratify=y, random_state=42\n",
    ")\n",
    "\n",
    "print(\" Preprocessing Complete\")\n",
    "print(\"X_train shape:\", X_train.shape)\n",
    "print(\"X_test shape:\", X_test.shape)\n"
   ]
  },
  {
   "cell_type": "code",
   "execution_count": 12,
   "id": "89e09e74",
   "metadata": {},
   "outputs": [
    {
     "name": "stderr",
     "output_type": "stream",
     "text": [
      "C:\\Users\\ASUS\\AppData\\Roaming\\Python\\Python312\\site-packages\\keras\\src\\layers\\core\\dense.py:87: UserWarning: Do not pass an `input_shape`/`input_dim` argument to a layer. When using Sequential models, prefer using an `Input(shape)` object as the first layer in the model instead.\n",
      "  super().__init__(activity_regularizer=activity_regularizer, **kwargs)\n"
     ]
    },
    {
     "data": {
      "text/html": [
       "<pre style=\"white-space:pre;overflow-x:auto;line-height:normal;font-family:Menlo,'DejaVu Sans Mono',consolas,'Courier New',monospace\"><span style=\"font-weight: bold\">Model: \"sequential\"</span>\n",
       "</pre>\n"
      ],
      "text/plain": [
       "\u001b[1mModel: \"sequential\"\u001b[0m\n"
      ]
     },
     "metadata": {},
     "output_type": "display_data"
    },
    {
     "data": {
      "text/html": [
       "<pre style=\"white-space:pre;overflow-x:auto;line-height:normal;font-family:Menlo,'DejaVu Sans Mono',consolas,'Courier New',monospace\">┏━━━━━━━━━━━━━━━━━━━━━━━━━━━━━━━━━┳━━━━━━━━━━━━━━━━━━━━━━━━┳━━━━━━━━━━━━━━━┓\n",
       "┃<span style=\"font-weight: bold\"> Layer (type)                    </span>┃<span style=\"font-weight: bold\"> Output Shape           </span>┃<span style=\"font-weight: bold\">       Param # </span>┃\n",
       "┡━━━━━━━━━━━━━━━━━━━━━━━━━━━━━━━━━╇━━━━━━━━━━━━━━━━━━━━━━━━╇━━━━━━━━━━━━━━━┩\n",
       "│ dense (<span style=\"color: #0087ff; text-decoration-color: #0087ff\">Dense</span>)                   │ (<span style=\"color: #00d7ff; text-decoration-color: #00d7ff\">None</span>, <span style=\"color: #00af00; text-decoration-color: #00af00\">256</span>)            │         <span style=\"color: #00af00; text-decoration-color: #00af00\">3,328</span> │\n",
       "├─────────────────────────────────┼────────────────────────┼───────────────┤\n",
       "│ dropout (<span style=\"color: #0087ff; text-decoration-color: #0087ff\">Dropout</span>)               │ (<span style=\"color: #00d7ff; text-decoration-color: #00d7ff\">None</span>, <span style=\"color: #00af00; text-decoration-color: #00af00\">256</span>)            │             <span style=\"color: #00af00; text-decoration-color: #00af00\">0</span> │\n",
       "├─────────────────────────────────┼────────────────────────┼───────────────┤\n",
       "│ dense_1 (<span style=\"color: #0087ff; text-decoration-color: #0087ff\">Dense</span>)                 │ (<span style=\"color: #00d7ff; text-decoration-color: #00d7ff\">None</span>, <span style=\"color: #00af00; text-decoration-color: #00af00\">128</span>)            │        <span style=\"color: #00af00; text-decoration-color: #00af00\">32,896</span> │\n",
       "├─────────────────────────────────┼────────────────────────┼───────────────┤\n",
       "│ dropout_1 (<span style=\"color: #0087ff; text-decoration-color: #0087ff\">Dropout</span>)             │ (<span style=\"color: #00d7ff; text-decoration-color: #00d7ff\">None</span>, <span style=\"color: #00af00; text-decoration-color: #00af00\">128</span>)            │             <span style=\"color: #00af00; text-decoration-color: #00af00\">0</span> │\n",
       "├─────────────────────────────────┼────────────────────────┼───────────────┤\n",
       "│ dense_2 (<span style=\"color: #0087ff; text-decoration-color: #0087ff\">Dense</span>)                 │ (<span style=\"color: #00d7ff; text-decoration-color: #00d7ff\">None</span>, <span style=\"color: #00af00; text-decoration-color: #00af00\">64</span>)             │         <span style=\"color: #00af00; text-decoration-color: #00af00\">8,256</span> │\n",
       "├─────────────────────────────────┼────────────────────────┼───────────────┤\n",
       "│ dense_3 (<span style=\"color: #0087ff; text-decoration-color: #0087ff\">Dense</span>)                 │ (<span style=\"color: #00d7ff; text-decoration-color: #00d7ff\">None</span>, <span style=\"color: #00af00; text-decoration-color: #00af00\">1</span>)              │            <span style=\"color: #00af00; text-decoration-color: #00af00\">65</span> │\n",
       "└─────────────────────────────────┴────────────────────────┴───────────────┘\n",
       "</pre>\n"
      ],
      "text/plain": [
       "┏━━━━━━━━━━━━━━━━━━━━━━━━━━━━━━━━━┳━━━━━━━━━━━━━━━━━━━━━━━━┳━━━━━━━━━━━━━━━┓\n",
       "┃\u001b[1m \u001b[0m\u001b[1mLayer (type)                   \u001b[0m\u001b[1m \u001b[0m┃\u001b[1m \u001b[0m\u001b[1mOutput Shape          \u001b[0m\u001b[1m \u001b[0m┃\u001b[1m \u001b[0m\u001b[1m      Param #\u001b[0m\u001b[1m \u001b[0m┃\n",
       "┡━━━━━━━━━━━━━━━━━━━━━━━━━━━━━━━━━╇━━━━━━━━━━━━━━━━━━━━━━━━╇━━━━━━━━━━━━━━━┩\n",
       "│ dense (\u001b[38;5;33mDense\u001b[0m)                   │ (\u001b[38;5;45mNone\u001b[0m, \u001b[38;5;34m256\u001b[0m)            │         \u001b[38;5;34m3,328\u001b[0m │\n",
       "├─────────────────────────────────┼────────────────────────┼───────────────┤\n",
       "│ dropout (\u001b[38;5;33mDropout\u001b[0m)               │ (\u001b[38;5;45mNone\u001b[0m, \u001b[38;5;34m256\u001b[0m)            │             \u001b[38;5;34m0\u001b[0m │\n",
       "├─────────────────────────────────┼────────────────────────┼───────────────┤\n",
       "│ dense_1 (\u001b[38;5;33mDense\u001b[0m)                 │ (\u001b[38;5;45mNone\u001b[0m, \u001b[38;5;34m128\u001b[0m)            │        \u001b[38;5;34m32,896\u001b[0m │\n",
       "├─────────────────────────────────┼────────────────────────┼───────────────┤\n",
       "│ dropout_1 (\u001b[38;5;33mDropout\u001b[0m)             │ (\u001b[38;5;45mNone\u001b[0m, \u001b[38;5;34m128\u001b[0m)            │             \u001b[38;5;34m0\u001b[0m │\n",
       "├─────────────────────────────────┼────────────────────────┼───────────────┤\n",
       "│ dense_2 (\u001b[38;5;33mDense\u001b[0m)                 │ (\u001b[38;5;45mNone\u001b[0m, \u001b[38;5;34m64\u001b[0m)             │         \u001b[38;5;34m8,256\u001b[0m │\n",
       "├─────────────────────────────────┼────────────────────────┼───────────────┤\n",
       "│ dense_3 (\u001b[38;5;33mDense\u001b[0m)                 │ (\u001b[38;5;45mNone\u001b[0m, \u001b[38;5;34m1\u001b[0m)              │            \u001b[38;5;34m65\u001b[0m │\n",
       "└─────────────────────────────────┴────────────────────────┴───────────────┘\n"
      ]
     },
     "metadata": {},
     "output_type": "display_data"
    },
    {
     "data": {
      "text/html": [
       "<pre style=\"white-space:pre;overflow-x:auto;line-height:normal;font-family:Menlo,'DejaVu Sans Mono',consolas,'Courier New',monospace\"><span style=\"font-weight: bold\"> Total params: </span><span style=\"color: #00af00; text-decoration-color: #00af00\">44,545</span> (174.00 KB)\n",
       "</pre>\n"
      ],
      "text/plain": [
       "\u001b[1m Total params: \u001b[0m\u001b[38;5;34m44,545\u001b[0m (174.00 KB)\n"
      ]
     },
     "metadata": {},
     "output_type": "display_data"
    },
    {
     "data": {
      "text/html": [
       "<pre style=\"white-space:pre;overflow-x:auto;line-height:normal;font-family:Menlo,'DejaVu Sans Mono',consolas,'Courier New',monospace\"><span style=\"font-weight: bold\"> Trainable params: </span><span style=\"color: #00af00; text-decoration-color: #00af00\">44,545</span> (174.00 KB)\n",
       "</pre>\n"
      ],
      "text/plain": [
       "\u001b[1m Trainable params: \u001b[0m\u001b[38;5;34m44,545\u001b[0m (174.00 KB)\n"
      ]
     },
     "metadata": {},
     "output_type": "display_data"
    },
    {
     "data": {
      "text/html": [
       "<pre style=\"white-space:pre;overflow-x:auto;line-height:normal;font-family:Menlo,'DejaVu Sans Mono',consolas,'Courier New',monospace\"><span style=\"font-weight: bold\"> Non-trainable params: </span><span style=\"color: #00af00; text-decoration-color: #00af00\">0</span> (0.00 B)\n",
       "</pre>\n"
      ],
      "text/plain": [
       "\u001b[1m Non-trainable params: \u001b[0m\u001b[38;5;34m0\u001b[0m (0.00 B)\n"
      ]
     },
     "metadata": {},
     "output_type": "display_data"
    }
   ],
   "source": [
    "# Build the Model\n",
    "model = tf.keras.Sequential([\n",
    "    tf.keras.layers.Dense(256, activation='relu', input_shape=(X_train.shape[1],)),\n",
    "    tf.keras.layers.Dropout(0.4),\n",
    "    tf.keras.layers.Dense(128, activation='relu'),\n",
    "    tf.keras.layers.Dropout(0.3),\n",
    "    tf.keras.layers.Dense(64, activation='relu'),\n",
    "    tf.keras.layers.Dense(1, activation='sigmoid')\n",
    "])\n",
    "\n",
    "model.compile(optimizer=tf.keras.optimizers.Adam(learning_rate=0.0003),\n",
    "              loss='binary_crossentropy',\n",
    "              metrics=['accuracy'])\n",
    "\n",
    "model.summary()\n"
   ]
  },
  {
   "cell_type": "code",
   "execution_count": 13,
   "id": "3d23edf7",
   "metadata": {},
   "outputs": [
    {
     "name": "stdout",
     "output_type": "stream",
     "text": [
      "Epoch 1/100\n",
      "\u001b[1m3788/3788\u001b[0m \u001b[32m━━━━━━━━━━━━━━━━━━━━\u001b[0m\u001b[37m\u001b[0m \u001b[1m21s\u001b[0m 5ms/step - accuracy: 0.6660 - loss: 0.6086 - val_accuracy: 0.7173 - val_loss: 0.5438\n",
      "Epoch 2/100\n",
      "\u001b[1m3788/3788\u001b[0m \u001b[32m━━━━━━━━━━━━━━━━━━━━\u001b[0m\u001b[37m\u001b[0m \u001b[1m19s\u001b[0m 5ms/step - accuracy: 0.7100 - loss: 0.5510 - val_accuracy: 0.7404 - val_loss: 0.5127\n",
      "Epoch 3/100\n",
      "\u001b[1m3788/3788\u001b[0m \u001b[32m━━━━━━━━━━━━━━━━━━━━\u001b[0m\u001b[37m\u001b[0m \u001b[1m18s\u001b[0m 5ms/step - accuracy: 0.7244 - loss: 0.5265 - val_accuracy: 0.7540 - val_loss: 0.4880\n",
      "Epoch 4/100\n",
      "\u001b[1m3788/3788\u001b[0m \u001b[32m━━━━━━━━━━━━━━━━━━━━\u001b[0m\u001b[37m\u001b[0m \u001b[1m18s\u001b[0m 5ms/step - accuracy: 0.7370 - loss: 0.5056 - val_accuracy: 0.7626 - val_loss: 0.4719\n",
      "Epoch 5/100\n",
      "\u001b[1m3788/3788\u001b[0m \u001b[32m━━━━━━━━━━━━━━━━━━━━\u001b[0m\u001b[37m\u001b[0m \u001b[1m18s\u001b[0m 5ms/step - accuracy: 0.7470 - loss: 0.4920 - val_accuracy: 0.7706 - val_loss: 0.4560\n",
      "Epoch 6/100\n",
      "\u001b[1m3788/3788\u001b[0m \u001b[32m━━━━━━━━━━━━━━━━━━━━\u001b[0m\u001b[37m\u001b[0m \u001b[1m18s\u001b[0m 5ms/step - accuracy: 0.7530 - loss: 0.4823 - val_accuracy: 0.7779 - val_loss: 0.4463\n",
      "Epoch 7/100\n",
      "\u001b[1m3788/3788\u001b[0m \u001b[32m━━━━━━━━━━━━━━━━━━━━\u001b[0m\u001b[37m\u001b[0m \u001b[1m18s\u001b[0m 5ms/step - accuracy: 0.7569 - loss: 0.4744 - val_accuracy: 0.7867 - val_loss: 0.4323\n",
      "Epoch 8/100\n",
      "\u001b[1m3788/3788\u001b[0m \u001b[32m━━━━━━━━━━━━━━━━━━━━\u001b[0m\u001b[37m\u001b[0m \u001b[1m18s\u001b[0m 5ms/step - accuracy: 0.7640 - loss: 0.4642 - val_accuracy: 0.7931 - val_loss: 0.4264\n",
      "Epoch 9/100\n",
      "\u001b[1m3788/3788\u001b[0m \u001b[32m━━━━━━━━━━━━━━━━━━━━\u001b[0m\u001b[37m\u001b[0m \u001b[1m18s\u001b[0m 5ms/step - accuracy: 0.7678 - loss: 0.4577 - val_accuracy: 0.7957 - val_loss: 0.4144\n",
      "Epoch 10/100\n",
      "\u001b[1m3788/3788\u001b[0m \u001b[32m━━━━━━━━━━━━━━━━━━━━\u001b[0m\u001b[37m\u001b[0m \u001b[1m18s\u001b[0m 5ms/step - accuracy: 0.7721 - loss: 0.4515 - val_accuracy: 0.8002 - val_loss: 0.4082\n",
      "Epoch 11/100\n",
      "\u001b[1m3788/3788\u001b[0m \u001b[32m━━━━━━━━━━━━━━━━━━━━\u001b[0m\u001b[37m\u001b[0m \u001b[1m19s\u001b[0m 5ms/step - accuracy: 0.7760 - loss: 0.4448 - val_accuracy: 0.8051 - val_loss: 0.3993\n",
      "Epoch 12/100\n",
      "\u001b[1m3788/3788\u001b[0m \u001b[32m━━━━━━━━━━━━━━━━━━━━\u001b[0m\u001b[37m\u001b[0m \u001b[1m19s\u001b[0m 5ms/step - accuracy: 0.7808 - loss: 0.4380 - val_accuracy: 0.8088 - val_loss: 0.3948\n",
      "Epoch 13/100\n",
      "\u001b[1m3788/3788\u001b[0m \u001b[32m━━━━━━━━━━━━━━━━━━━━\u001b[0m\u001b[37m\u001b[0m \u001b[1m19s\u001b[0m 5ms/step - accuracy: 0.7809 - loss: 0.4377 - val_accuracy: 0.8144 - val_loss: 0.3905\n",
      "Epoch 14/100\n",
      "\u001b[1m3788/3788\u001b[0m \u001b[32m━━━━━━━━━━━━━━━━━━━━\u001b[0m\u001b[37m\u001b[0m \u001b[1m19s\u001b[0m 5ms/step - accuracy: 0.7858 - loss: 0.4304 - val_accuracy: 0.8159 - val_loss: 0.3846\n",
      "Epoch 15/100\n",
      "\u001b[1m3788/3788\u001b[0m \u001b[32m━━━━━━━━━━━━━━━━━━━━\u001b[0m\u001b[37m\u001b[0m \u001b[1m19s\u001b[0m 5ms/step - accuracy: 0.7883 - loss: 0.4256 - val_accuracy: 0.8162 - val_loss: 0.3804\n",
      "Epoch 16/100\n",
      "\u001b[1m3788/3788\u001b[0m \u001b[32m━━━━━━━━━━━━━━━━━━━━\u001b[0m\u001b[37m\u001b[0m \u001b[1m18s\u001b[0m 5ms/step - accuracy: 0.7894 - loss: 0.4222 - val_accuracy: 0.8220 - val_loss: 0.3761\n",
      "Epoch 17/100\n",
      "\u001b[1m3788/3788\u001b[0m \u001b[32m━━━━━━━━━━━━━━━━━━━━\u001b[0m\u001b[37m\u001b[0m \u001b[1m18s\u001b[0m 5ms/step - accuracy: 0.7908 - loss: 0.4211 - val_accuracy: 0.8197 - val_loss: 0.3723\n",
      "Epoch 18/100\n",
      "\u001b[1m3788/3788\u001b[0m \u001b[32m━━━━━━━━━━━━━━━━━━━━\u001b[0m\u001b[37m\u001b[0m \u001b[1m18s\u001b[0m 5ms/step - accuracy: 0.7908 - loss: 0.4178 - val_accuracy: 0.8223 - val_loss: 0.3696\n",
      "Epoch 19/100\n",
      "\u001b[1m3788/3788\u001b[0m \u001b[32m━━━━━━━━━━━━━━━━━━━━\u001b[0m\u001b[37m\u001b[0m \u001b[1m18s\u001b[0m 5ms/step - accuracy: 0.7965 - loss: 0.4111 - val_accuracy: 0.8244 - val_loss: 0.3665\n",
      "Epoch 20/100\n",
      "\u001b[1m3788/3788\u001b[0m \u001b[32m━━━━━━━━━━━━━━━━━━━━\u001b[0m\u001b[37m\u001b[0m \u001b[1m18s\u001b[0m 5ms/step - accuracy: 0.7978 - loss: 0.4090 - val_accuracy: 0.8264 - val_loss: 0.3647\n",
      "Epoch 21/100\n",
      "\u001b[1m3788/3788\u001b[0m \u001b[32m━━━━━━━━━━━━━━━━━━━━\u001b[0m\u001b[37m\u001b[0m \u001b[1m18s\u001b[0m 5ms/step - accuracy: 0.7971 - loss: 0.4085 - val_accuracy: 0.8289 - val_loss: 0.3609\n",
      "Epoch 22/100\n",
      "\u001b[1m3788/3788\u001b[0m \u001b[32m━━━━━━━━━━━━━━━━━━━━\u001b[0m\u001b[37m\u001b[0m \u001b[1m18s\u001b[0m 5ms/step - accuracy: 0.7986 - loss: 0.4061 - val_accuracy: 0.8290 - val_loss: 0.3548\n",
      "Epoch 23/100\n",
      "\u001b[1m3788/3788\u001b[0m \u001b[32m━━━━━━━━━━━━━━━━━━━━\u001b[0m\u001b[37m\u001b[0m \u001b[1m18s\u001b[0m 5ms/step - accuracy: 0.8014 - loss: 0.4025 - val_accuracy: 0.8302 - val_loss: 0.3545\n",
      "Epoch 24/100\n",
      "\u001b[1m3788/3788\u001b[0m \u001b[32m━━━━━━━━━━━━━━━━━━━━\u001b[0m\u001b[37m\u001b[0m \u001b[1m18s\u001b[0m 5ms/step - accuracy: 0.8021 - loss: 0.4005 - val_accuracy: 0.8332 - val_loss: 0.3502\n",
      "Epoch 25/100\n",
      "\u001b[1m3788/3788\u001b[0m \u001b[32m━━━━━━━━━━━━━━━━━━━━\u001b[0m\u001b[37m\u001b[0m \u001b[1m19s\u001b[0m 5ms/step - accuracy: 0.8025 - loss: 0.3993 - val_accuracy: 0.8324 - val_loss: 0.3478\n",
      "Epoch 26/100\n",
      "\u001b[1m3788/3788\u001b[0m \u001b[32m━━━━━━━━━━━━━━━━━━━━\u001b[0m\u001b[37m\u001b[0m \u001b[1m18s\u001b[0m 5ms/step - accuracy: 0.8043 - loss: 0.3967 - val_accuracy: 0.8344 - val_loss: 0.3460\n",
      "Epoch 27/100\n",
      "\u001b[1m3788/3788\u001b[0m \u001b[32m━━━━━━━━━━━━━━━━━━━━\u001b[0m\u001b[37m\u001b[0m \u001b[1m18s\u001b[0m 5ms/step - accuracy: 0.8052 - loss: 0.3954 - val_accuracy: 0.8357 - val_loss: 0.3444\n",
      "Epoch 28/100\n",
      "\u001b[1m3788/3788\u001b[0m \u001b[32m━━━━━━━━━━━━━━━━━━━━\u001b[0m\u001b[37m\u001b[0m \u001b[1m19s\u001b[0m 5ms/step - accuracy: 0.8060 - loss: 0.3941 - val_accuracy: 0.8373 - val_loss: 0.3418\n",
      "Epoch 29/100\n",
      "\u001b[1m3788/3788\u001b[0m \u001b[32m━━━━━━━━━━━━━━━━━━━━\u001b[0m\u001b[37m\u001b[0m \u001b[1m18s\u001b[0m 5ms/step - accuracy: 0.8071 - loss: 0.3935 - val_accuracy: 0.8354 - val_loss: 0.3413\n",
      "Epoch 30/100\n",
      "\u001b[1m3788/3788\u001b[0m \u001b[32m━━━━━━━━━━━━━━━━━━━━\u001b[0m\u001b[37m\u001b[0m \u001b[1m19s\u001b[0m 5ms/step - accuracy: 0.8067 - loss: 0.3925 - val_accuracy: 0.8397 - val_loss: 0.3372\n",
      "Epoch 31/100\n",
      "\u001b[1m3788/3788\u001b[0m \u001b[32m━━━━━━━━━━━━━━━━━━━━\u001b[0m\u001b[37m\u001b[0m \u001b[1m18s\u001b[0m 5ms/step - accuracy: 0.8080 - loss: 0.3898 - val_accuracy: 0.8367 - val_loss: 0.3363\n",
      "Epoch 32/100\n",
      "\u001b[1m3788/3788\u001b[0m \u001b[32m━━━━━━━━━━━━━━━━━━━━\u001b[0m\u001b[37m\u001b[0m \u001b[1m18s\u001b[0m 5ms/step - accuracy: 0.8080 - loss: 0.3909 - val_accuracy: 0.8392 - val_loss: 0.3387\n",
      "Epoch 33/100\n",
      "\u001b[1m3788/3788\u001b[0m \u001b[32m━━━━━━━━━━━━━━━━━━━━\u001b[0m\u001b[37m\u001b[0m \u001b[1m20s\u001b[0m 5ms/step - accuracy: 0.8106 - loss: 0.3864 - val_accuracy: 0.8407 - val_loss: 0.3335\n",
      "Epoch 34/100\n",
      "\u001b[1m3788/3788\u001b[0m \u001b[32m━━━━━━━━━━━━━━━━━━━━\u001b[0m\u001b[37m\u001b[0m \u001b[1m19s\u001b[0m 5ms/step - accuracy: 0.8110 - loss: 0.3840 - val_accuracy: 0.8418 - val_loss: 0.3314\n",
      "Epoch 35/100\n",
      "\u001b[1m3788/3788\u001b[0m \u001b[32m━━━━━━━━━━━━━━━━━━━━\u001b[0m\u001b[37m\u001b[0m \u001b[1m17s\u001b[0m 5ms/step - accuracy: 0.8114 - loss: 0.3845 - val_accuracy: 0.8432 - val_loss: 0.3319\n",
      "Epoch 36/100\n",
      "\u001b[1m3788/3788\u001b[0m \u001b[32m━━━━━━━━━━━━━━━━━━━━\u001b[0m\u001b[37m\u001b[0m \u001b[1m18s\u001b[0m 5ms/step - accuracy: 0.8105 - loss: 0.3863 - val_accuracy: 0.8449 - val_loss: 0.3277\n",
      "Epoch 37/100\n",
      "\u001b[1m3788/3788\u001b[0m \u001b[32m━━━━━━━━━━━━━━━━━━━━\u001b[0m\u001b[37m\u001b[0m \u001b[1m19s\u001b[0m 5ms/step - accuracy: 0.8139 - loss: 0.3814 - val_accuracy: 0.8428 - val_loss: 0.3260\n",
      "Epoch 38/100\n",
      "\u001b[1m3788/3788\u001b[0m \u001b[32m━━━━━━━━━━━━━━━━━━━━\u001b[0m\u001b[37m\u001b[0m \u001b[1m18s\u001b[0m 5ms/step - accuracy: 0.8128 - loss: 0.3809 - val_accuracy: 0.8430 - val_loss: 0.3262\n",
      "Epoch 39/100\n",
      "\u001b[1m3788/3788\u001b[0m \u001b[32m━━━━━━━━━━━━━━━━━━━━\u001b[0m\u001b[37m\u001b[0m \u001b[1m18s\u001b[0m 5ms/step - accuracy: 0.8135 - loss: 0.3781 - val_accuracy: 0.8459 - val_loss: 0.3244\n",
      "Epoch 40/100\n",
      "\u001b[1m3788/3788\u001b[0m \u001b[32m━━━━━━━━━━━━━━━━━━━━\u001b[0m\u001b[37m\u001b[0m \u001b[1m18s\u001b[0m 5ms/step - accuracy: 0.8147 - loss: 0.3789 - val_accuracy: 0.8443 - val_loss: 0.3249\n",
      "Epoch 41/100\n",
      "\u001b[1m3788/3788\u001b[0m \u001b[32m━━━━━━━━━━━━━━━━━━━━\u001b[0m\u001b[37m\u001b[0m \u001b[1m18s\u001b[0m 5ms/step - accuracy: 0.8126 - loss: 0.3790 - val_accuracy: 0.8464 - val_loss: 0.3235\n",
      "Epoch 42/100\n",
      "\u001b[1m3788/3788\u001b[0m \u001b[32m━━━━━━━━━━━━━━━━━━━━\u001b[0m\u001b[37m\u001b[0m \u001b[1m18s\u001b[0m 5ms/step - accuracy: 0.8149 - loss: 0.3777 - val_accuracy: 0.8479 - val_loss: 0.3224\n",
      "Epoch 43/100\n",
      "\u001b[1m3788/3788\u001b[0m \u001b[32m━━━━━━━━━━━━━━━━━━━━\u001b[0m\u001b[37m\u001b[0m \u001b[1m18s\u001b[0m 5ms/step - accuracy: 0.8145 - loss: 0.3788 - val_accuracy: 0.8459 - val_loss: 0.3217\n",
      "Epoch 44/100\n",
      "\u001b[1m3788/3788\u001b[0m \u001b[32m━━━━━━━━━━━━━━━━━━━━\u001b[0m\u001b[37m\u001b[0m \u001b[1m18s\u001b[0m 5ms/step - accuracy: 0.8159 - loss: 0.3767 - val_accuracy: 0.8460 - val_loss: 0.3202\n",
      "Epoch 45/100\n",
      "\u001b[1m3788/3788\u001b[0m \u001b[32m━━━━━━━━━━━━━━━━━━━━\u001b[0m\u001b[37m\u001b[0m \u001b[1m19s\u001b[0m 5ms/step - accuracy: 0.8154 - loss: 0.3760 - val_accuracy: 0.8496 - val_loss: 0.3180\n",
      "Epoch 46/100\n",
      "\u001b[1m3788/3788\u001b[0m \u001b[32m━━━━━━━━━━━━━━━━━━━━\u001b[0m\u001b[37m\u001b[0m \u001b[1m18s\u001b[0m 5ms/step - accuracy: 0.8177 - loss: 0.3728 - val_accuracy: 0.8483 - val_loss: 0.3175\n",
      "Epoch 47/100\n",
      "\u001b[1m3788/3788\u001b[0m \u001b[32m━━━━━━━━━━━━━━━━━━━━\u001b[0m\u001b[37m\u001b[0m \u001b[1m18s\u001b[0m 5ms/step - accuracy: 0.8163 - loss: 0.3749 - val_accuracy: 0.8478 - val_loss: 0.3185\n",
      "Epoch 48/100\n",
      "\u001b[1m3788/3788\u001b[0m \u001b[32m━━━━━━━━━━━━━━━━━━━━\u001b[0m\u001b[37m\u001b[0m \u001b[1m18s\u001b[0m 5ms/step - accuracy: 0.8174 - loss: 0.3729 - val_accuracy: 0.8500 - val_loss: 0.3167\n",
      "Epoch 49/100\n",
      "\u001b[1m3788/3788\u001b[0m \u001b[32m━━━━━━━━━━━━━━━━━━━━\u001b[0m\u001b[37m\u001b[0m \u001b[1m18s\u001b[0m 5ms/step - accuracy: 0.8184 - loss: 0.3717 - val_accuracy: 0.8502 - val_loss: 0.3173\n",
      "Epoch 50/100\n",
      "\u001b[1m3788/3788\u001b[0m \u001b[32m━━━━━━━━━━━━━━━━━━━━\u001b[0m\u001b[37m\u001b[0m \u001b[1m18s\u001b[0m 5ms/step - accuracy: 0.8180 - loss: 0.3709 - val_accuracy: 0.8501 - val_loss: 0.3171\n",
      "Epoch 51/100\n",
      "\u001b[1m3788/3788\u001b[0m \u001b[32m━━━━━━━━━━━━━━━━━━━━\u001b[0m\u001b[37m\u001b[0m \u001b[1m21s\u001b[0m 5ms/step - accuracy: 0.8171 - loss: 0.3708 - val_accuracy: 0.8504 - val_loss: 0.3144\n",
      "Epoch 52/100\n",
      "\u001b[1m3788/3788\u001b[0m \u001b[32m━━━━━━━━━━━━━━━━━━━━\u001b[0m\u001b[37m\u001b[0m \u001b[1m18s\u001b[0m 5ms/step - accuracy: 0.8179 - loss: 0.3716 - val_accuracy: 0.8521 - val_loss: 0.3125\n",
      "Epoch 53/100\n",
      "\u001b[1m3788/3788\u001b[0m \u001b[32m━━━━━━━━━━━━━━━━━━━━\u001b[0m\u001b[37m\u001b[0m \u001b[1m18s\u001b[0m 5ms/step - accuracy: 0.8186 - loss: 0.3704 - val_accuracy: 0.8512 - val_loss: 0.3132\n",
      "Epoch 54/100\n",
      "\u001b[1m3788/3788\u001b[0m \u001b[32m━━━━━━━━━━━━━━━━━━━━\u001b[0m\u001b[37m\u001b[0m \u001b[1m18s\u001b[0m 5ms/step - accuracy: 0.8191 - loss: 0.3679 - val_accuracy: 0.8530 - val_loss: 0.3102\n",
      "Epoch 55/100\n",
      "\u001b[1m3788/3788\u001b[0m \u001b[32m━━━━━━━━━━━━━━━━━━━━\u001b[0m\u001b[37m\u001b[0m \u001b[1m18s\u001b[0m 5ms/step - accuracy: 0.8187 - loss: 0.3688 - val_accuracy: 0.8528 - val_loss: 0.3118\n",
      "Epoch 56/100\n",
      "\u001b[1m3788/3788\u001b[0m \u001b[32m━━━━━━━━━━━━━━━━━━━━\u001b[0m\u001b[37m\u001b[0m \u001b[1m18s\u001b[0m 5ms/step - accuracy: 0.8202 - loss: 0.3678 - val_accuracy: 0.8531 - val_loss: 0.3121\n",
      "Epoch 57/100\n",
      "\u001b[1m3788/3788\u001b[0m \u001b[32m━━━━━━━━━━━━━━━━━━━━\u001b[0m\u001b[37m\u001b[0m \u001b[1m20s\u001b[0m 4ms/step - accuracy: 0.8195 - loss: 0.3695 - val_accuracy: 0.8553 - val_loss: 0.3084\n",
      "Epoch 58/100\n",
      "\u001b[1m3788/3788\u001b[0m \u001b[32m━━━━━━━━━━━━━━━━━━━━\u001b[0m\u001b[37m\u001b[0m \u001b[1m19s\u001b[0m 5ms/step - accuracy: 0.8214 - loss: 0.3670 - val_accuracy: 0.8537 - val_loss: 0.3110\n",
      "Epoch 59/100\n",
      "\u001b[1m3788/3788\u001b[0m \u001b[32m━━━━━━━━━━━━━━━━━━━━\u001b[0m\u001b[37m\u001b[0m \u001b[1m18s\u001b[0m 5ms/step - accuracy: 0.8205 - loss: 0.3674 - val_accuracy: 0.8534 - val_loss: 0.3102\n",
      "Epoch 60/100\n",
      "\u001b[1m3788/3788\u001b[0m \u001b[32m━━━━━━━━━━━━━━━━━━━━\u001b[0m\u001b[37m\u001b[0m \u001b[1m19s\u001b[0m 5ms/step - accuracy: 0.8215 - loss: 0.3658 - val_accuracy: 0.8538 - val_loss: 0.3100\n",
      "Epoch 61/100\n",
      "\u001b[1m3788/3788\u001b[0m \u001b[32m━━━━━━━━━━━━━━━━━━━━\u001b[0m\u001b[37m\u001b[0m \u001b[1m18s\u001b[0m 5ms/step - accuracy: 0.8215 - loss: 0.3658 - val_accuracy: 0.8554 - val_loss: 0.3067\n",
      "Epoch 62/100\n",
      "\u001b[1m3788/3788\u001b[0m \u001b[32m━━━━━━━━━━━━━━━━━━━━\u001b[0m\u001b[37m\u001b[0m \u001b[1m19s\u001b[0m 5ms/step - accuracy: 0.8221 - loss: 0.3645 - val_accuracy: 0.8581 - val_loss: 0.3081\n",
      "Epoch 63/100\n",
      "\u001b[1m3788/3788\u001b[0m \u001b[32m━━━━━━━━━━━━━━━━━━━━\u001b[0m\u001b[37m\u001b[0m \u001b[1m18s\u001b[0m 5ms/step - accuracy: 0.8227 - loss: 0.3643 - val_accuracy: 0.8574 - val_loss: 0.3062\n",
      "Epoch 64/100\n",
      "\u001b[1m3788/3788\u001b[0m \u001b[32m━━━━━━━━━━━━━━━━━━━━\u001b[0m\u001b[37m\u001b[0m \u001b[1m18s\u001b[0m 5ms/step - accuracy: 0.8216 - loss: 0.3644 - val_accuracy: 0.8574 - val_loss: 0.3054\n",
      "Epoch 65/100\n",
      "\u001b[1m3788/3788\u001b[0m \u001b[32m━━━━━━━━━━━━━━━━━━━━\u001b[0m\u001b[37m\u001b[0m \u001b[1m19s\u001b[0m 5ms/step - accuracy: 0.8219 - loss: 0.3644 - val_accuracy: 0.8560 - val_loss: 0.3067\n",
      "Epoch 66/100\n",
      "\u001b[1m3788/3788\u001b[0m \u001b[32m━━━━━━━━━━━━━━━━━━━━\u001b[0m\u001b[37m\u001b[0m \u001b[1m18s\u001b[0m 5ms/step - accuracy: 0.8233 - loss: 0.3622 - val_accuracy: 0.8582 - val_loss: 0.3057\n",
      "Epoch 67/100\n",
      "\u001b[1m3788/3788\u001b[0m \u001b[32m━━━━━━━━━━━━━━━━━━━━\u001b[0m\u001b[37m\u001b[0m \u001b[1m18s\u001b[0m 5ms/step - accuracy: 0.8235 - loss: 0.3621 - val_accuracy: 0.8573 - val_loss: 0.3051\n",
      "Epoch 68/100\n",
      "\u001b[1m3788/3788\u001b[0m \u001b[32m━━━━━━━━━━━━━━━━━━━━\u001b[0m\u001b[37m\u001b[0m \u001b[1m18s\u001b[0m 5ms/step - accuracy: 0.8233 - loss: 0.3641 - val_accuracy: 0.8582 - val_loss: 0.3030\n",
      "Epoch 69/100\n",
      "\u001b[1m3788/3788\u001b[0m \u001b[32m━━━━━━━━━━━━━━━━━━━━\u001b[0m\u001b[37m\u001b[0m \u001b[1m18s\u001b[0m 5ms/step - accuracy: 0.8235 - loss: 0.3610 - val_accuracy: 0.8576 - val_loss: 0.3049\n",
      "Epoch 70/100\n",
      "\u001b[1m3788/3788\u001b[0m \u001b[32m━━━━━━━━━━━━━━━━━━━━\u001b[0m\u001b[37m\u001b[0m \u001b[1m19s\u001b[0m 5ms/step - accuracy: 0.8244 - loss: 0.3609 - val_accuracy: 0.8586 - val_loss: 0.3018\n",
      "Epoch 71/100\n",
      "\u001b[1m3788/3788\u001b[0m \u001b[32m━━━━━━━━━━━━━━━━━━━━\u001b[0m\u001b[37m\u001b[0m \u001b[1m19s\u001b[0m 5ms/step - accuracy: 0.8232 - loss: 0.3623 - val_accuracy: 0.8560 - val_loss: 0.3061\n",
      "Epoch 72/100\n",
      "\u001b[1m3788/3788\u001b[0m \u001b[32m━━━━━━━━━━━━━━━━━━━━\u001b[0m\u001b[37m\u001b[0m \u001b[1m19s\u001b[0m 5ms/step - accuracy: 0.8238 - loss: 0.3624 - val_accuracy: 0.8588 - val_loss: 0.3006\n",
      "Epoch 73/100\n",
      "\u001b[1m3788/3788\u001b[0m \u001b[32m━━━━━━━━━━━━━━━━━━━━\u001b[0m\u001b[37m\u001b[0m \u001b[1m18s\u001b[0m 5ms/step - accuracy: 0.8237 - loss: 0.3613 - val_accuracy: 0.8579 - val_loss: 0.3020\n",
      "Epoch 74/100\n",
      "\u001b[1m3788/3788\u001b[0m \u001b[32m━━━━━━━━━━━━━━━━━━━━\u001b[0m\u001b[37m\u001b[0m \u001b[1m18s\u001b[0m 5ms/step - accuracy: 0.8230 - loss: 0.3627 - val_accuracy: 0.8586 - val_loss: 0.3001\n",
      "Epoch 75/100\n",
      "\u001b[1m3788/3788\u001b[0m \u001b[32m━━━━━━━━━━━━━━━━━━━━\u001b[0m\u001b[37m\u001b[0m \u001b[1m19s\u001b[0m 5ms/step - accuracy: 0.8250 - loss: 0.3592 - val_accuracy: 0.8579 - val_loss: 0.3007\n",
      "Epoch 76/100\n",
      "\u001b[1m3788/3788\u001b[0m \u001b[32m━━━━━━━━━━━━━━━━━━━━\u001b[0m\u001b[37m\u001b[0m \u001b[1m20s\u001b[0m 5ms/step - accuracy: 0.8251 - loss: 0.3592 - val_accuracy: 0.8604 - val_loss: 0.2991\n",
      "Epoch 77/100\n",
      "\u001b[1m3788/3788\u001b[0m \u001b[32m━━━━━━━━━━━━━━━━━━━━\u001b[0m\u001b[37m\u001b[0m \u001b[1m19s\u001b[0m 5ms/step - accuracy: 0.8249 - loss: 0.3593 - val_accuracy: 0.8582 - val_loss: 0.2986\n",
      "Epoch 78/100\n",
      "\u001b[1m3788/3788\u001b[0m \u001b[32m━━━━━━━━━━━━━━━━━━━━\u001b[0m\u001b[37m\u001b[0m \u001b[1m18s\u001b[0m 5ms/step - accuracy: 0.8236 - loss: 0.3604 - val_accuracy: 0.8606 - val_loss: 0.2990\n",
      "Epoch 79/100\n",
      "\u001b[1m3788/3788\u001b[0m \u001b[32m━━━━━━━━━━━━━━━━━━━━\u001b[0m\u001b[37m\u001b[0m \u001b[1m19s\u001b[0m 5ms/step - accuracy: 0.8271 - loss: 0.3571 - val_accuracy: 0.8599 - val_loss: 0.3004\n",
      "Epoch 80/100\n",
      "\u001b[1m3788/3788\u001b[0m \u001b[32m━━━━━━━━━━━━━━━━━━━━\u001b[0m\u001b[37m\u001b[0m \u001b[1m19s\u001b[0m 5ms/step - accuracy: 0.8246 - loss: 0.3594 - val_accuracy: 0.8591 - val_loss: 0.3001\n",
      "Epoch 81/100\n",
      "\u001b[1m3788/3788\u001b[0m \u001b[32m━━━━━━━━━━━━━━━━━━━━\u001b[0m\u001b[37m\u001b[0m \u001b[1m19s\u001b[0m 5ms/step - accuracy: 0.8250 - loss: 0.3588 - val_accuracy: 0.8602 - val_loss: 0.2987\n",
      "Epoch 82/100\n",
      "\u001b[1m3788/3788\u001b[0m \u001b[32m━━━━━━━━━━━━━━━━━━━━\u001b[0m\u001b[37m\u001b[0m \u001b[1m19s\u001b[0m 5ms/step - accuracy: 0.8252 - loss: 0.3587 - val_accuracy: 0.8608 - val_loss: 0.2966\n",
      "Epoch 83/100\n",
      "\u001b[1m3788/3788\u001b[0m \u001b[32m━━━━━━━━━━━━━━━━━━━━\u001b[0m\u001b[37m\u001b[0m \u001b[1m19s\u001b[0m 5ms/step - accuracy: 0.8251 - loss: 0.3580 - val_accuracy: 0.8599 - val_loss: 0.2982\n",
      "Epoch 84/100\n",
      "\u001b[1m3788/3788\u001b[0m \u001b[32m━━━━━━━━━━━━━━━━━━━━\u001b[0m\u001b[37m\u001b[0m \u001b[1m19s\u001b[0m 5ms/step - accuracy: 0.8272 - loss: 0.3547 - val_accuracy: 0.8595 - val_loss: 0.2981\n",
      "Epoch 85/100\n",
      "\u001b[1m3788/3788\u001b[0m \u001b[32m━━━━━━━━━━━━━━━━━━━━\u001b[0m\u001b[37m\u001b[0m \u001b[1m19s\u001b[0m 5ms/step - accuracy: 0.8260 - loss: 0.3573 - val_accuracy: 0.8628 - val_loss: 0.2972\n",
      "Epoch 86/100\n",
      "\u001b[1m3788/3788\u001b[0m \u001b[32m━━━━━━━━━━━━━━━━━━━━\u001b[0m\u001b[37m\u001b[0m \u001b[1m19s\u001b[0m 5ms/step - accuracy: 0.8263 - loss: 0.3561 - val_accuracy: 0.8631 - val_loss: 0.2973\n",
      "Epoch 87/100\n",
      "\u001b[1m3788/3788\u001b[0m \u001b[32m━━━━━━━━━━━━━━━━━━━━\u001b[0m\u001b[37m\u001b[0m \u001b[1m19s\u001b[0m 5ms/step - accuracy: 0.8270 - loss: 0.3556 - val_accuracy: 0.8622 - val_loss: 0.2978\n",
      "Epoch 88/100\n",
      "\u001b[1m3788/3788\u001b[0m \u001b[32m━━━━━━━━━━━━━━━━━━━━\u001b[0m\u001b[37m\u001b[0m \u001b[1m19s\u001b[0m 5ms/step - accuracy: 0.8259 - loss: 0.3567 - val_accuracy: 0.8625 - val_loss: 0.2952\n",
      "Epoch 89/100\n",
      "\u001b[1m3788/3788\u001b[0m \u001b[32m━━━━━━━━━━━━━━━━━━━━\u001b[0m\u001b[37m\u001b[0m \u001b[1m19s\u001b[0m 5ms/step - accuracy: 0.8270 - loss: 0.3552 - val_accuracy: 0.8622 - val_loss: 0.2962\n",
      "Epoch 90/100\n",
      "\u001b[1m3788/3788\u001b[0m \u001b[32m━━━━━━━━━━━━━━━━━━━━\u001b[0m\u001b[37m\u001b[0m \u001b[1m18s\u001b[0m 5ms/step - accuracy: 0.8277 - loss: 0.3541 - val_accuracy: 0.8629 - val_loss: 0.2950\n",
      "Epoch 91/100\n",
      "\u001b[1m3788/3788\u001b[0m \u001b[32m━━━━━━━━━━━━━━━━━━━━\u001b[0m\u001b[37m\u001b[0m \u001b[1m18s\u001b[0m 5ms/step - accuracy: 0.8284 - loss: 0.3545 - val_accuracy: 0.8618 - val_loss: 0.2975\n",
      "Epoch 92/100\n",
      "\u001b[1m3788/3788\u001b[0m \u001b[32m━━━━━━━━━━━━━━━━━━━━\u001b[0m\u001b[37m\u001b[0m \u001b[1m16s\u001b[0m 4ms/step - accuracy: 0.8283 - loss: 0.3545 - val_accuracy: 0.8631 - val_loss: 0.2929\n",
      "Epoch 93/100\n",
      "\u001b[1m3788/3788\u001b[0m \u001b[32m━━━━━━━━━━━━━━━━━━━━\u001b[0m\u001b[37m\u001b[0m \u001b[1m18s\u001b[0m 5ms/step - accuracy: 0.8284 - loss: 0.3517 - val_accuracy: 0.8617 - val_loss: 0.2947\n",
      "Epoch 94/100\n",
      "\u001b[1m3788/3788\u001b[0m \u001b[32m━━━━━━━━━━━━━━━━━━━━\u001b[0m\u001b[37m\u001b[0m \u001b[1m18s\u001b[0m 5ms/step - accuracy: 0.8279 - loss: 0.3528 - val_accuracy: 0.8634 - val_loss: 0.2929\n",
      "Epoch 95/100\n",
      "\u001b[1m3788/3788\u001b[0m \u001b[32m━━━━━━━━━━━━━━━━━━━━\u001b[0m\u001b[37m\u001b[0m \u001b[1m20s\u001b[0m 5ms/step - accuracy: 0.8269 - loss: 0.3545 - val_accuracy: 0.8634 - val_loss: 0.2938\n",
      "Epoch 96/100\n",
      "\u001b[1m3788/3788\u001b[0m \u001b[32m━━━━━━━━━━━━━━━━━━━━\u001b[0m\u001b[37m\u001b[0m \u001b[1m19s\u001b[0m 5ms/step - accuracy: 0.8290 - loss: 0.3524 - val_accuracy: 0.8640 - val_loss: 0.2932\n",
      "Epoch 97/100\n",
      "\u001b[1m3788/3788\u001b[0m \u001b[32m━━━━━━━━━━━━━━━━━━━━\u001b[0m\u001b[37m\u001b[0m \u001b[1m21s\u001b[0m 5ms/step - accuracy: 0.8303 - loss: 0.3518 - val_accuracy: 0.8636 - val_loss: 0.2932\n",
      "Epoch 98/100\n",
      "\u001b[1m3788/3788\u001b[0m \u001b[32m━━━━━━━━━━━━━━━━━━━━\u001b[0m\u001b[37m\u001b[0m \u001b[1m20s\u001b[0m 5ms/step - accuracy: 0.8290 - loss: 0.3519 - val_accuracy: 0.8642 - val_loss: 0.2924\n",
      "Epoch 99/100\n",
      "\u001b[1m3788/3788\u001b[0m \u001b[32m━━━━━━━━━━━━━━━━━━━━\u001b[0m\u001b[37m\u001b[0m \u001b[1m19s\u001b[0m 5ms/step - accuracy: 0.8295 - loss: 0.3519 - val_accuracy: 0.8636 - val_loss: 0.2921\n",
      "Epoch 100/100\n",
      "\u001b[1m3788/3788\u001b[0m \u001b[32m━━━━━━━━━━━━━━━━━━━━\u001b[0m\u001b[37m\u001b[0m \u001b[1m20s\u001b[0m 5ms/step - accuracy: 0.8290 - loss: 0.3502 - val_accuracy: 0.8634 - val_loss: 0.2919\n"
     ]
    }
   ],
   "source": [
    "# Train the Model\n",
    "early_stop = tf.keras.callbacks.EarlyStopping(monitor='val_loss', patience=7, restore_best_weights=True)\n",
    "\n",
    "history = model.fit(\n",
    "    X_train, y_train,\n",
    "    epochs=100,\n",
    "    batch_size=64,\n",
    "    validation_split=0.2,\n",
    "    callbacks=[early_stop],\n",
    "    verbose=1\n",
    ")\n"
   ]
  },
  {
   "cell_type": "code",
   "execution_count": 14,
   "id": "078fb658",
   "metadata": {},
   "outputs": [
    {
     "name": "stdout",
     "output_type": "stream",
     "text": [
      "\u001b[1m2368/2368\u001b[0m \u001b[32m━━━━━━━━━━━━━━━━━━━━\u001b[0m\u001b[37m\u001b[0m \u001b[1m5s\u001b[0m 2ms/step - accuracy: 0.8625 - loss: 0.2949\n",
      " Final Test Accuracy: 0.8612\n",
      "\u001b[1m2368/2368\u001b[0m \u001b[32m━━━━━━━━━━━━━━━━━━━━\u001b[0m\u001b[37m\u001b[0m \u001b[1m5s\u001b[0m 2ms/step\n",
      " Confusion Matrix:\n",
      " [[41991  4628]\n",
      " [ 5882 23246]]\n",
      "\n",
      " Classification Report:\n",
      "               precision    recall  f1-score   support\n",
      "\n",
      "           0       0.88      0.90      0.89     46619\n",
      "           1       0.83      0.80      0.82     29128\n",
      "\n",
      "    accuracy                           0.86     75747\n",
      "   macro avg       0.86      0.85      0.85     75747\n",
      "weighted avg       0.86      0.86      0.86     75747\n",
      "\n"
     ]
    }
   ],
   "source": [
    "#  Evaluate the Model\n",
    "loss, acc = model.evaluate(X_test, y_test)\n",
    "print(f\" Final Test Accuracy: {acc:.4f}\")\n",
    "\n",
    "y_probs = model.predict(X_test)\n",
    "y_preds = (y_probs > 0.5).astype(int)\n",
    "\n",
    "print(\" Confusion Matrix:\\n\", confusion_matrix(y_test, y_preds))\n",
    "print(\"\\n Classification Report:\\n\", classification_report(y_test, y_preds))\n"
   ]
  },
  {
   "cell_type": "code",
   "execution_count": 15,
   "id": "c9f25973",
   "metadata": {},
   "outputs": [
    {
     "data": {
      "image/png": "[encoded data removed]",
      "text/plain": [
       "<Figure size 640x480 with 1 Axes>"
      ]
     },
     "metadata": {},
     "output_type": "display_data"
    },
    {
     "data": {
      "image/png": "[encoded data removed]",
      "text/plain": [
       "<Figure size 640x480 with 1 Axes>"
      ]
     },
     "metadata": {},
     "output_type": "display_data"
    }
   ],
   "source": [
    "#Plot Accuracy and Loss\n",
    "plt.plot(history.history['accuracy'], label='Train Acc')\n",
    "plt.plot(history.history['val_accuracy'], label='Val Acc')\n",
    "plt.title(\"Model Accuracy\")\n",
    "plt.xlabel(\"Epochs\")\n",
    "plt.ylabel(\"Accuracy\")\n",
    "plt.legend()\n",
    "plt.show()\n",
    "\n",
    "plt.plot(history.history['loss'], label='Train Loss')\n",
    "plt.plot(history.history['val_loss'], label='Val Loss')\n",
    "plt.title(\"Model Loss\")\n",
    "plt.xlabel(\"Epochs\")\n",
    "plt.ylabel(\"Loss\")\n",
    "plt.legend()\n",
    "plt.show()\n"
   ]
  },
  {
   "cell_type": "code",
   "execution_count": 16,
   "id": "389bbdf7",
   "metadata": {},
   "outputs": [
    {
     "name": "stderr",
     "output_type": "stream",
     "text": [
      "WARNING:absl:You are saving your model as an HDF5 file via `model.save()` or `keras.saving.save_model(model)`. This file format is considered legacy. We recommend using instead the native Keras format, e.g. `model.save('my_model.keras')` or `keras.saving.save_model(model, 'my_model.keras')`. \n"
     ]
    },
    {
     "name": "stdout",
     "output_type": "stream",
     "text": [
      "INFO:tensorflow:Assets written to: C:\\Users\\ASUS\\AppData\\Local\\Temp\\tmp5rupzft_\\assets\n"
     ]
    },
    {
     "name": "stderr",
     "output_type": "stream",
     "text": [
      "INFO:tensorflow:Assets written to: C:\\Users\\ASUS\\AppData\\Local\\Temp\\tmp5rupzft_\\assets\n"
     ]
    },
    {
     "name": "stdout",
     "output_type": "stream",
     "text": [
      "Saved artifact at 'C:\\Users\\ASUS\\AppData\\Local\\Temp\\tmp5rupzft_'. The following endpoints are available:\n",
      "\n",
      "* Endpoint 'serve'\n",
      "  args_0 (POSITIONAL_ONLY): TensorSpec(shape=(None, 12), dtype=tf.float32, name='keras_tensor')\n",
      "Output Type:\n",
      "  TensorSpec(shape=(None, 1), dtype=tf.float32, name=None)\n",
      "Captures:\n",
      "  2297343262352: TensorSpec(shape=(), dtype=tf.resource, name=None)\n",
      "  2297415142480: TensorSpec(shape=(), dtype=tf.resource, name=None)\n",
      "  2297415142672: TensorSpec(shape=(), dtype=tf.resource, name=None)\n",
      "  2297415142096: TensorSpec(shape=(), dtype=tf.resource, name=None)\n",
      "  2297415141904: TensorSpec(shape=(), dtype=tf.resource, name=None)\n",
      "  2297415143056: TensorSpec(shape=(), dtype=tf.resource, name=None)\n",
      "  2297415144016: TensorSpec(shape=(), dtype=tf.resource, name=None)\n",
      "  2297415144400: TensorSpec(shape=(), dtype=tf.resource, name=None)\n",
      " TFLite model exported: fall_detection_model.tflite\n"
     ]
    }
   ],
   "source": [
    "# Save model\n",
    "model.save(\"fall_detection_model.h5\")\n",
    "\n",
    "# Convert to TensorFlow Lite\n",
    "converter = tf.lite.TFLiteConverter.from_keras_model(model)\n",
    "converter.optimizations = [tf.lite.Optimize.DEFAULT]\n",
    "tflite_model = converter.convert()\n",
    "\n",
    "# Save TFLite file\n",
    "with open(\"fall_detection_model.tflite\", \"wb\") as f:\n",
    "    f.write(tflite_model)\n",
    "\n",
    "print(\" TFLite model exported: fall_detection_model.tflite\")\n"
   ]
  },
  {
   "cell_type": "code",
   "execution_count": null,
   "id": "97de1ecf",
   "metadata": {},
   "outputs": [],
   "source": []
  }
 ],
 "metadata": {
  "kernelspec": {
   "display_name": "Python 3",
   "language": "python",
   "name": "python3"
  },
  "language_info": {
   "codemirror_mode": {
    "name": "ipython",
    "version": 3
   },
   "file_extension": ".py",
   "mimetype": "text/x-python",
   "name": "python",
   "nbconvert_exporter": "python",
   "pygments_lexer": "ipython3",
   "version": "3.12.4"
  }
 },
 "nbformat": 4,
 "nbformat_minor": 5
}
